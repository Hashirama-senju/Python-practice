{
 "cells": [
  {
   "cell_type": "code",
   "execution_count": 110,
   "id": "81cd2caa",
   "metadata": {},
   "outputs": [
    {
     "name": "stdout",
     "output_type": "stream",
     "text": [
      "[57, 92, 70, 95, 68, 72, 98, 84, 91, 69, 76, 93, 85, 90, 82, 79, 94, 86, 75, 99, 63, 77, 96, 81, 59, 73, 97, 50, 88, 74, 92, 68, 85, 78, 63, 57, 82, 90, 66, 54, 91, 79, 95, 88, 83, 77, 56, 84, 69, 98]\n"
     ]
    }
   ],
   "source": [
    "#1\n",
    "grades = [57, 92, 70, 95, 68, 72, 98, 84, 91, 69, 76, 93, 85, 90, 82, 79, 94, 86, 75, 99, 63, 77, 96, 81, 59, 73, 97, 50, 88, 74, 92, 68, 85, 78, 63, 57, 82, 90, 66, 54, 91, 79, 95, 88, 83, 77, 56, 84,69, 98]\n",
    "print(grades)"
   ]
  },
  {
   "cell_type": "code",
   "execution_count": 112,
   "id": "69cf6040",
   "metadata": {},
   "outputs": [
    {
     "name": "stdout",
     "output_type": "stream",
     "text": [
      "Lowest score is : 50\n",
      "Highest score is : 99\n"
     ]
    }
   ],
   "source": [
    "#2.\n",
    "grades.sort()\n",
    "#print(grades)\n",
    "min_score = grades[0]\n",
    "max_score = grades[-1]\n",
    "\n",
    "print(\"Lowest score is :\" ,min_score)\n",
    "print(\"Highest score is :\",max_score)\n"
   ]
  },
  {
   "cell_type": "code",
   "execution_count": 113,
   "id": "b1a63b13",
   "metadata": {},
   "outputs": [
    {
     "name": "stdout",
     "output_type": "stream",
     "text": [
      "Grades of studets : [50, 54, 56, 57, 57, 59, 63, 63, 66, 68, 68, 69, 69, 70, 72, 73, 74, 75, 76, 77, 77, 78, 79, 79, 81, 82, 82, 83, 84, 84, 85, 85, 86, 88, 88, 90, 90, 91, 91, 92, 92, 93, 94, 95, 95, 96, 97, 98, 98, 99]\n",
      "[14, 15, 16, 17, 18, 19, 20, 21, 22, 23, 24, 25, 26, 27, 28, 29, 30, 31, 32, 33, 34, 35, 36, 37, 38, 39, 40, 41, 42, 43, 44, 45, 46, 47, 48, 49]\n"
     ]
    }
   ],
   "source": [
    "#3.\n",
    "passed_list = []\n",
    "count = 0\n",
    "print(\"Grades of studets :\",grades)\n",
    "for x in grades:  \n",
    "    if x > 70:\n",
    "        passed_list.append(count)\n",
    "    count = count + 1\n",
    "        \n",
    "print(passed_list )\n",
    "   "
   ]
  },
  {
   "cell_type": "code",
   "execution_count": 114,
   "id": "0b4c9935",
   "metadata": {},
   "outputs": [
    {
     "name": "stdout",
     "output_type": "stream",
     "text": [
      "Average scores are : 79.36\n"
     ]
    }
   ],
   "source": [
    "#4.\n",
    "sum_of_scores = sum(grades)\n",
    "Total_len = len(grades)\n",
    "Average_Score = sum_of_scores / Total_len\n",
    "print(\"Average scores are :\",Average_Score)"
   ]
  },
  {
   "cell_type": "code",
   "execution_count": 115,
   "id": "b42f6330",
   "metadata": {},
   "outputs": [
    {
     "name": "stdout",
     "output_type": "stream",
     "text": [
      "Stdents with Grade A : [90, 90, 91, 91, 92, 92, 93, 94, 95, 95, 96, 97, 98, 98, 99]\n",
      "Stdents with Grade B : [81, 82, 82, 83, 84, 84, 85, 85, 86, 88, 88]\n",
      "Stdents with Grade C : [70, 72, 73, 74, 75, 76, 77, 77, 78, 79, 79]\n",
      "Stdents with Grade D : [63, 63, 66, 68, 68, 69, 69]\n",
      "Stdents with Grade F : [50, 54, 56, 57, 57, 59]\n"
     ]
    }
   ],
   "source": [
    "#5.\n",
    "A = []\n",
    "B = []\n",
    "C = []\n",
    "D = []\n",
    "F = []\n",
    "\n",
    "for x in grades:\n",
    "    if x in range(90,101):\n",
    "        A.append(x)\n",
    "    elif x in range(80,90):\n",
    "        B.append(x)\n",
    "    elif x in range(70,80):\n",
    "        C.append(x)\n",
    "    elif x in range(60,70):\n",
    "        D.append(x)\n",
    "    else:\n",
    "        F.append(x)\n",
    "\n",
    "print(\"Stdents with Grade A :\", A)\n",
    "print(\"Stdents with Grade B :\", B)\n",
    "print(\"Stdents with Grade C :\", C)\n",
    "print(\"Stdents with Grade D :\", D)\n",
    "print(\"Stdents with Grade F :\", F)"
   ]
  },
  {
   "cell_type": "code",
   "execution_count": null,
   "id": "c9a4b8e1",
   "metadata": {},
   "outputs": [],
   "source": [
    "# 6. Create two sets, set1 and set2, each containing 100 random integers."
   ]
  },
  {
   "cell_type": "code",
   "execution_count": 32,
   "id": "f8fa72cb",
   "metadata": {},
   "outputs": [
    {
     "name": "stdout",
     "output_type": "stream",
     "text": [
      "Set 1 : {11, 12, 13, 14, 15, 16, 17, 20, 22, 24, 26, 27, 28, 30, 32, 36, 37, 38, 39, 41, 42, 43, 45, 46, 47, 51, 52, 53, 54, 56, 59, 60, 61, 64, 67, 68, 72, 73, 74, 75, 76, 79, 80, 82, 83, 84, 89, 90, 91, 93, 94, 96, 99, 100, 101, 102, 103, 104, 105, 106, 107, 108, 109, 110}\n",
      "Set 2 : {128, 131, 133, 134, 136, 138, 139, 140, 30, 32, 33, 35, 36, 38, 40, 41, 43, 44, 45, 47, 48, 50, 51, 54, 56, 58, 59, 61, 65, 67, 68, 69, 70, 72, 73, 74, 76, 78, 79, 80, 81, 82, 83, 85, 86, 87, 88, 89, 90, 91, 92, 94, 95, 98, 99, 100, 101, 107, 109, 110, 111, 112, 114, 115, 117, 118, 122, 124, 125, 126, 127}\n"
     ]
    }
   ],
   "source": [
    "#6.\n",
    "import random\n",
    "def Rand(start, end, num):\n",
    "    res = []\n",
    " \n",
    "    for j in range(num):\n",
    "        res.append(random.randint(start, end))\n",
    " \n",
    "    return res\n",
    "\n",
    "set1 = set(Rand(10, 110, 100))\n",
    "set2 = set(Rand(30, 140, 100))\n",
    "print(\"Set 1 :\",set1)\n",
    "print(\"Set 2 :\",set2)"
   ]
  },
  {
   "cell_type": "code",
   "execution_count": 116,
   "id": "51039650",
   "metadata": {},
   "outputs": [
    {
     "name": "stdout",
     "output_type": "stream",
     "text": [
      "{30, 32, 36, 38, 41, 43, 45, 47, 51, 54, 56, 59, 61, 67, 68, 72, 73, 74, 76, 79, 80, 82, 83, 89, 90, 91, 94, 99, 100, 101, 107, 109, 110}\n"
     ]
    }
   ],
   "source": [
    "#7.\n",
    "set_intersection = set1.intersection(set2)\n",
    "print(set_intersection)"
   ]
  },
  {
   "cell_type": "code",
   "execution_count": null,
   "id": "248cae97",
   "metadata": {},
   "outputs": [],
   "source": [
    "#8.\n",
    "prime_numbers = set()\n",
    "\n",
    "for x in range(1, 500):\n",
    "    "
   ]
  },
  {
   "cell_type": "code",
   "execution_count": 117,
   "id": "412dae7c",
   "metadata": {},
   "outputs": [
    {
     "name": "stdout",
     "output_type": "stream",
     "text": [
      "{4096, 13824, 32768, 175616, 262144, 373248, 512000, 804357, 884736, 1124864, 1259712, 571787, 148877, 103823, 79507, 2197, 10648, 157464, 389017, 592704, 1030301, 753571, 226981, 17576, 729000, 132651, 3375, 4913, 1331, 1295029, 59319, 2744, 68921, 97336, 970299, 830584, 1331000, 1728, 8000, 21952, 46656, 140608, 205379, 216000, 314432, 438976, 551368, 704969, 1000000, 1225043, 54872, 1061208, 300763, 50653, 19683, 74088, 405224, 1191016, 493039, 421875, 91125, 1092727, 27000, 1157625}\n"
     ]
    }
   ],
   "source": [
    "#9.\n",
    "set_cubes = set()\n",
    "\n",
    "#print(\"Set 1 :\" , set1)\n",
    "y = 0\n",
    "for x in set1:\n",
    "    set_cubes.add(x * x * x)\n",
    "    \n",
    "print( set_cubes)"
   ]
  },
  {
   "cell_type": "code",
   "execution_count": 118,
   "id": "d29b2aab",
   "metadata": {},
   "outputs": [
    {
     "name": "stdout",
     "output_type": "stream",
     "text": [
      "Not disjoint \n"
     ]
    }
   ],
   "source": [
    "#10.\n",
    "sets_disjoint = set1.isdisjoint(set2)\n",
    "\n",
    "if sets_disjoint:\n",
    "    print(\"IS disjoint\")\n",
    "else:\n",
    "    print(\"Not disjoint \")\n"
   ]
  },
  {
   "cell_type": "code",
   "execution_count": 72,
   "id": "fc1cbf9c",
   "metadata": {},
   "outputs": [
    {
     "name": "stdout",
     "output_type": "stream",
     "text": [
      "[('Student1', 21, 2.91), ('Student2', 19, 2.66), ('Student3', 22, 3.77), ('Student4', 22, 3.28), ('Student5', 20, 3.9), ('Student6', 21, 3.44), ('Student7', 21, 3.97), ('Student8', 22, 3.13), ('Student9', 18, 3.03), ('Student10', 23, 3.7), ('Student11', 19, 2.41), ('Student12', 23, 3.75), ('Student13', 22, 2.68), ('Student14', 23, 3.91), ('Student15', 22, 3.16), ('Student16', 18, 3.73), ('Student17', 19, 2.77), ('Student18', 20, 2.75), ('Student19', 21, 3.75), ('Student20', 22, 3.87), ('Student21', 19, 3.37), ('Student22', 22, 2.56), ('Student23', 23, 2.06), ('Student24', 20, 3.93), ('Student25', 19, 3.94), ('Student26', 21, 3.21), ('Student27', 19, 2.92), ('Student28', 22, 2.53), ('Student29', 19, 3.0), ('Student30', 22, 2.58), ('Student31', 21, 3.17), ('Student32', 21, 3.02), ('Student33', 18, 2.26), ('Student34', 19, 3.95), ('Student35', 22, 3.78), ('Student36', 19, 2.14), ('Student37', 18, 2.52), ('Student38', 22, 3.16), ('Student39', 21, 2.04), ('Student40', 19, 2.56), ('Student41', 23, 2.41), ('Student42', 21, 3.85), ('Student43', 18, 2.8), ('Student44', 18, 2.08), ('Student45', 19, 3.87), ('Student46', 21, 3.75), ('Student47', 18, 2.5), ('Student48', 23, 3.11), ('Student49', 19, 2.77), ('Student50', 19, 3.37)]\n"
     ]
    }
   ],
   "source": [
    "#11.\n",
    "import random\n",
    "students = []\n",
    "\n",
    "for i in range(1,51):\n",
    "    name = f\"Student{i}\"\n",
    "    age = random.randint(18,23)\n",
    "    GPA = round(random.uniform(2.0,4.0), 2)\n",
    "    student_tuple = (name ,age, GPA)\n",
    "    students.append(student_tuple)\n",
    "    \n",
    "print(students)"
   ]
  },
  {
   "cell_type": "code",
   "execution_count": 67,
   "id": "6be387c5",
   "metadata": {},
   "outputs": [
    {
     "name": "stdout",
     "output_type": "stream",
     "text": [
      "The Highest GPA of student is : 3.9855220717757742\n"
     ]
    }
   ],
   "source": [
    "#12.\n",
    "highest_mark = 0.0\n",
    "for marks in students:\n",
    "    GPA = marks[2] \n",
    "    if GPA > highest_mark:\n",
    "        highest_mark = GPA\n",
    "\n",
    "print(\"The Highest GPA of student is :\",highest_mark)"
   ]
  },
  {
   "cell_type": "code",
   "execution_count": 120,
   "id": "e3a53bba",
   "metadata": {},
   "outputs": [
    {
     "name": "stdout",
     "output_type": "stream",
     "text": [
      "{'FDA': 62.08, 'DMA': 60.66, 'Mining': 53.0, 'Computation and Vis': 54.32, 'Algorithm': 55.54}\n"
     ]
    }
   ],
   "source": [
    "#13.\n",
    "import random\n",
    "course_name = ['FDA', 'DMA', 'Mining', 'Computation and Vis', 'Algorithm']\n",
    "courses_average = {}\n",
    "for i in course_name:\n",
    "    list_of_grades = []\n",
    "    for j in range(1,51):\n",
    "        k = random.randint(20,100)\n",
    "        list_of_grades.append(k)\n",
    "        average_grade = sum(list_of_grades)/len(list_of_grades)\n",
    "        courses_average[i] = (average_grade)\n",
    "        \n",
    "print(courses_average)\n"
   ]
  },
  {
   "cell_type": "code",
   "execution_count": 83,
   "id": "fc2f182a",
   "metadata": {},
   "outputs": [
    {
     "name": "stdout",
     "output_type": "stream",
     "text": [
      "[('student5', 18, 0.87), ('student15', 18, 1.02), ('student19', 18, 0.02), ('student25', 18, 2.01), ('student28', 18, 2.95), ('student29', 18, 1.8), ('student33', 18, 0.37), ('student35', 18, 0.39), ('student46', 18, 1.74), ('student50', 18, 1.48), ('student12', 19, 3.94), ('student21', 19, 3.88), ('student36', 19, 3.34), ('student39', 19, 3.77), ('student44', 19, 2.71), ('student45', 19, 2.71), ('student11', 20, 1.52), ('student17', 20, 3.1), ('student20', 20, 1.63), ('student37', 20, 2.41), ('student42', 20, 2.9), ('student43', 20, 0.01), ('student6', 21, 0.56), ('student7', 21, 3.59), ('student26', 21, 1.33), ('student30', 21, 1.3), ('student47', 21, 0.66), ('student2', 22, 0.15), ('student4', 22, 2.08), ('student10', 22, 2.56), ('student14', 22, 2.26), ('student18', 22, 2.77), ('student27', 22, 2.26), ('student40', 22, 3.42), ('student41', 22, 0.8), ('student1', 23, 2.56), ('student3', 23, 2.44), ('student8', 23, 3.92), ('student13', 23, 1.22), ('student23', 23, 3.52), ('student24', 23, 2.14), ('student32', 23, 1.3), ('student34', 23, 2.34), ('student9', 24, 2.44), ('student16', 24, 1.75), ('student22', 24, 0.04), ('student31', 24, 1.65), ('student38', 24, 3.31), ('student48', 24, 1.82), ('student49', 24, 3.06)]\n"
     ]
    }
   ],
   "source": [
    "#14.\n",
    "import random\n",
    "\n",
    "students_list = [\"student\" + str(i) for i in range(1,51)]\n",
    "\n",
    "students = []\n",
    "\n",
    "for student in students_list:\n",
    "    age = random.randint(18, 24)\n",
    "    gpa = round(random. uniform (0,4),2)\n",
    "    student_tuple = (student, age, gpa)\n",
    "    students.append(student_tuple)\n",
    "sorted_age = sorted(students, key=lambda x:x[1])\n",
    "\n",
    "print (sorted_age)"
   ]
  },
  {
   "cell_type": "code",
   "execution_count": 119,
   "id": "fab575df",
   "metadata": {},
   "outputs": [
    {
     "name": "stdout",
     "output_type": "stream",
     "text": [
      "{'FDA': ['Student 2', 'Student 12', 'Student 7'], 'DMA': ['Student 11', 'Student 14', 'Student 10'], 'Mining': ['Student 13', 'Student 3', 'Student 0'], 'Computation and Vis': ['Student 1', 'Student 6', 'Student 5'], 'Algorithm': ['Student 4', 'Student 8', 'Student 9']}\n"
     ]
    }
   ],
   "source": [
    "#15.\n",
    "import random\n",
    "\n",
    "list_courses = ['FDA', 'DMA', 'Mining', 'Computation and Vis', 'Algorithm']\n",
    "\n",
    "students_list = [\"Student \" + str(i) for i in range(15)]\n",
    "\n",
    "course_dictionary = {}\n",
    "random.shuffle (students_list)\n",
    "\n",
    "students_per_subject= len(students_list) // len(list_courses) \n",
    "for course in list_courses:\n",
    "    students_acc_subject = students_list[:students_per_subject]\n",
    "    course_dictionary[course] = students_acc_subject\n",
    "    students_list = students_list [students_per_subject:]\n",
    "\n",
    "for i, student in enumerate(students_list): \n",
    "    course = list_courses[i % len(list_courses)] \n",
    "    course_dictionary[course].append(student)\n",
    "\n",
    "print(course_dictionary)"
   ]
  },
  {
   "cell_type": "code",
   "execution_count": 121,
   "id": "ab42bb07",
   "metadata": {},
   "outputs": [
    {
     "name": "stdout",
     "output_type": "stream",
     "text": [
      "{'Employee1': (18, 56458, 'HR'), 'Employee2': (37, 103477, 'Housing'), 'Employee3': (59, 102979, 'Housing'), 'Employee4': (18, 42050, 'Operation'), 'Employee5': (51, 90092, 'Marketing'), 'Employee6': (31, 46387, 'Operation')}\n"
     ]
    }
   ],
   "source": [
    "#16.\n",
    "import random\n",
    "\n",
    "Employee_names = [\"Employee\"+str(i) for i in range(1,7)]\n",
    "department = [\"Engineering\", \"Sales\", \"HR\",\"Marketing\", \"Operation\", \"Housing\"] \n",
    "employees = {}\n",
    "\n",
    "for employee in Employee_names:\n",
    "              age = random.randint (18,60)\n",
    "              dept = random.choice (department) \n",
    "              salary = random.randint (30000, 110000) \n",
    "              employee_tuple = (age, salary, dept)\n",
    "              employees.update({employee: employee_tuple}) \n",
    "print (employees)"
   ]
  },
  {
   "cell_type": "code",
   "execution_count": 104,
   "id": "417ece7f",
   "metadata": {},
   "outputs": [
    {
     "name": "stdout",
     "output_type": "stream",
     "text": [
      "{'Employee1': (55, 32772, 'Finance'), 'Employee2': (37, 97196, 'HR'), 'Employee3': (23, 84407, 'Finance'), 'Employee4': (33, 102271, 'HR'), 'Employee5': (32, 86558, 'Operation'), 'Employee6': (44, 49594, 'Marketing')}\n",
      "75466.33333333333\n"
     ]
    }
   ],
   "source": [
    "#17.\n",
    "sum_salary = 0\n",
    "sum_employee = 0\n",
    "\n",
    "for employe_info in employees.values():\n",
    "    age, salary, dept = employe_info\n",
    "    sum_salary = sum_salary + salary\n",
    "    sum_employee = sum_employee + 1\n",
    "\n",
    "average_salary = sum_salary/sum_employee\n",
    "print(employees)\n",
    "print(average_salary)"
   ]
  },
  {
   "cell_type": "code",
   "execution_count": 99,
   "id": "a0034d3a",
   "metadata": {},
   "outputs": [
    {
     "name": "stdout",
     "output_type": "stream",
     "text": [
      "{'May 1': 100.97, 'May 2': 101.32, 'May 3': 100.71, 'May 4': 101.19, 'May 5': 101.73, 'May 6': 100.94, 'May 7': 101.37, 'May 8': 101.06, 'May 9': 101.54, 'May 10': 101.34, 'May 11': 101.88, 'May 12': 101.33, 'May 13': 101.22, 'May 14': 101.33, 'May 15': 101.44, 'May 16': 100.76, 'May 17': 100.97, 'May 18': 101.67, 'May 19': 101.73, 'May 20': 100.85, 'May 21': 101.61, 'May 22': 101.29, 'May 23': 101.85, 'May 24': 100.66, 'May 25': 100.86, 'May 26': 101.56, 'May 27': 100.3, 'May 28': 101.72, 'May 29': 100.78, 'May 30': 101.36}\n"
     ]
    }
   ],
   "source": [
    "#18.\n",
    "import random\n",
    "dates = [\"May \" + str(i) for i in range(1, 30+1)]\n",
    "stocks =  [round (random. uniform (100, 102), 2) for i in range(30)]\n",
    "stock_prices = {}\n",
    "\n",
    "for i in range(30):\n",
    "    stock_prices.update({dates[i]: stocks[i]})\n",
    "\n",
    "print(stock_prices)"
   ]
  },
  {
   "cell_type": "code",
   "execution_count": 122,
   "id": "0be40953",
   "metadata": {},
   "outputs": [
    {
     "name": "stdout",
     "output_type": "stream",
     "text": [
      "{'Employee1': (18, 56458, 'HR'), 'Employee2': (37, 103477, 'Housing'), 'Employee3': (59, 102979, 'Housing'), 'Employee4': (18, 42050, 'Operation'), 'Employee5': (51, 90092, 'Marketing'), 'Employee6': (31, 46387, 'Operation')}\n",
      "75466.33333333333\n"
     ]
    }
   ],
   "source": [
    "#19.\n",
    "highest_salary = {}\n",
    "for employee, employee_info in employees.items(): \n",
    "    age, salary, dept = employee_info \n",
    "    if salary >= 70000: \n",
    "        highest_salary.update({employee: salary})\n",
    "print(employees)\n",
    "print(average_salary)"
   ]
  },
  {
   "cell_type": "code",
   "execution_count": 111,
   "id": "d5448fcd",
   "metadata": {},
   "outputs": [
    {
     "name": "stdout",
     "output_type": "stream",
     "text": [
      "{'student': 'Ankur', 'Height': '6.4', 'hobby': 'football', 'employee': 'Suhaib', 'Age': '24', 'Hobby': 'reading'}\n"
     ]
    }
   ],
   "source": [
    "#20.\n",
    "dict1 = {'student': 'Ankur', 'Height': '6.4', 'hobby': 'football'} \n",
    "dict2= {'employee': 'Suhaib', 'Age': '24', 'Hobby': 'reading'} \n",
    "merged_dict = {**dict1, **dict2} \n",
    "print (merged_dict) "
   ]
  }
 ],
 "metadata": {
  "kernelspec": {
   "display_name": "Python 3 (ipykernel)",
   "language": "python",
   "name": "python3"
  },
  "language_info": {
   "codemirror_mode": {
    "name": "ipython",
    "version": 3
   },
   "file_extension": ".py",
   "mimetype": "text/x-python",
   "name": "python",
   "nbconvert_exporter": "python",
   "pygments_lexer": "ipython3",
   "version": "3.10.9"
  }
 },
 "nbformat": 4,
 "nbformat_minor": 5
}
