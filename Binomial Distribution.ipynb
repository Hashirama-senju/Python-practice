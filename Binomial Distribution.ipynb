{
 "cells": [
  {
   "cell_type": "code",
   "execution_count": 17,
   "id": "0bcd30e6-2c26-4fc6-89e2-89fe6aac5c06",
   "metadata": {},
   "outputs": [
    {
     "data": {
      "text/html": [
       "<div>\n",
       "<style scoped>\n",
       "    .dataframe tbody tr th:only-of-type {\n",
       "        vertical-align: middle;\n",
       "    }\n",
       "\n",
       "    .dataframe tbody tr th {\n",
       "        vertical-align: top;\n",
       "    }\n",
       "\n",
       "    .dataframe thead th {\n",
       "        text-align: right;\n",
       "    }\n",
       "</style>\n",
       "<table border=\"1\" class=\"dataframe\">\n",
       "  <thead>\n",
       "    <tr style=\"text-align: right;\">\n",
       "      <th></th>\n",
       "      <th>Quality Check Outcome</th>\n",
       "    </tr>\n",
       "  </thead>\n",
       "  <tbody>\n",
       "    <tr>\n",
       "      <th>0</th>\n",
       "      <td>Non-Defective</td>\n",
       "    </tr>\n",
       "    <tr>\n",
       "      <th>1</th>\n",
       "      <td>Defective</td>\n",
       "    </tr>\n",
       "    <tr>\n",
       "      <th>2</th>\n",
       "      <td>Non-Defective</td>\n",
       "    </tr>\n",
       "    <tr>\n",
       "      <th>3</th>\n",
       "      <td>Non-Defective</td>\n",
       "    </tr>\n",
       "    <tr>\n",
       "      <th>4</th>\n",
       "      <td>Non-Defective</td>\n",
       "    </tr>\n",
       "  </tbody>\n",
       "</table>\n",
       "</div>"
      ],
      "text/plain": [
       "  Quality Check Outcome\n",
       "0         Non-Defective\n",
       "1             Defective\n",
       "2         Non-Defective\n",
       "3         Non-Defective\n",
       "4         Non-Defective"
      ]
     },
     "execution_count": 17,
     "metadata": {},
     "output_type": "execute_result"
    }
   ],
   "source": [
    "#1\n",
    "# Importing necessary libraries\n",
    "import pandas as pd\n",
    "import numpy as np\n",
    "import matplotlib.pyplot as plt\n",
    "from scipy.stats import binom\n",
    "\n",
    "# Generating the dataset using Binomial Distribution\n",
    "np.random.seed(42)\n",
    "n = 100  # Total products\n",
    "p = 0.1  # Probability of a product being defective\n",
    "data = np.random.binomial(1, p, n)\n",
    "outcome_map = {1: 'Defective', 0: 'Non-Defective'}\n",
    "data = [outcome_map[i] for i in data]\n",
    "\n",
    "df = pd.DataFrame(data, columns=['Quality Check Outcome'])\n",
    "\n",
    "# Display the first few rows of the dataframe\n",
    "df.head()"
   ]
  },
  {
   "cell_type": "markdown",
   "id": "c2b317c9-a4ac-4023-b3cf-5998d303c690",
   "metadata": {},
   "source": [
    "\n",
    "Interpretation: Based on the dataset, provide a brief interpretation of the distribution of defective products.\n",
    "Ans: the distribution is centered around this probability. This means that, on average, you would expect around 10% of the products to be defective.\n",
    "Visualization: Plot a bar chart to visualize the number of defective and non-defective products.\n"
   ]
  },
  {
   "cell_type": "code",
   "execution_count": 18,
   "id": "3f1cb3a3-5cf3-4438-9559-08f5a518604b",
   "metadata": {},
   "outputs": [
    {
     "data": {
      "image/png": "[encoded data removed]",
      "text/plain": [
       "<Figure size 640x480 with 1 Axes>"
      ]
     },
     "metadata": {},
     "output_type": "display_data"
    }
   ],
   "source": [
    "# Count the occurrences of each category\n",
    "outcome_counts = df['Quality Check Outcome'].value_counts()\n",
    "\n",
    "# Plotting the bar chart\n",
    "plt.bar(outcome_counts.index, outcome_counts.values, color=['green', 'red'])\n",
    "plt.xlabel('Quality Check Outcome')\n",
    "plt.ylabel('Number of Products')\n",
    "plt.title('Distribution of Defective and Non-Defective Products')\n",
    "plt.show()\n"
   ]
  },
  {
   "cell_type": "markdown",
   "id": "d9783813-fbd3-4f16-b6c4-ee3bedc2cc95",
   "metadata": {},
   "source": [
    "Binomial Distribution Application:\n",
    "\n",
    "Assume that the probability of a product being defective is p. Using the sample proportion of defective products from the dataset, estimate the value of p.\n",
    "Calculate the probability that out of the next 50 products, more than 10 will be defective using the estimated value of p."
   ]
  },
  {
   "cell_type": "code",
   "execution_count": 19,
   "id": "f5d9676f-d766-405f-af3a-9c03b6d46b37",
   "metadata": {},
   "outputs": [
    {
     "name": "stdout",
     "output_type": "stream",
     "text": [
      "Estimated probability of a product being defective: 0.09\n"
     ]
    }
   ],
   "source": [
    "# Convert labels to numerical values\n",
    "numeric_data = np.array([1 if outcome == 'Defective' else 0 for outcome in data])\n",
    "\n",
    "# Calculate the estimated value of p\n",
    "estimated_p = np.mean(numeric_data)\n",
    "print(f\"Estimated probability of a product being defective: {estimated_p:.2f}\")\n",
    "\n"
   ]
  },
  {
   "cell_type": "code",
   "execution_count": 20,
   "id": "1064838d-b3f8-4891-b0b7-70a1a628366b",
   "metadata": {},
   "outputs": [
    {
     "name": "stdout",
     "output_type": "stream",
     "text": [
      "Probability of more than 10 defective products out of the next 50: 0.0043\n"
     ]
    }
   ],
   "source": [
    "# Number of trials (next 50 products)\n",
    "next_n = 50\n",
    "\n",
    "# Calculate the probability using the estimated value of p\n",
    "prob_more_than_10_defective = 1 - binom.cdf(10, next_n, estimated_p)\n",
    "print(f\"Probability of more than 10 defective products out of the next 50: {prob_more_than_10_defective:.4f}\")\n"
   ]
  },
  {
   "cell_type": "code",
   "execution_count": 21,
   "id": "78ed1cd6-cb20-4fa3-875e-5e5a41b556ce",
   "metadata": {},
   "outputs": [
    {
     "data": {
      "text/html": [
       "<div>\n",
       "<style scoped>\n",
       "    .dataframe tbody tr th:only-of-type {\n",
       "        vertical-align: middle;\n",
       "    }\n",
       "\n",
       "    .dataframe tbody tr th {\n",
       "        vertical-align: top;\n",
       "    }\n",
       "\n",
       "    .dataframe thead th {\n",
       "        text-align: right;\n",
       "    }\n",
       "</style>\n",
       "<table border=\"1\" class=\"dataframe\">\n",
       "  <thead>\n",
       "    <tr style=\"text-align: right;\">\n",
       "      <th></th>\n",
       "      <th>Hour</th>\n",
       "      <th>Number of Customers</th>\n",
       "    </tr>\n",
       "  </thead>\n",
       "  <tbody>\n",
       "    <tr>\n",
       "      <th>0</th>\n",
       "      <td>1</td>\n",
       "      <td>5</td>\n",
       "    </tr>\n",
       "    <tr>\n",
       "      <th>1</th>\n",
       "      <td>2</td>\n",
       "      <td>4</td>\n",
       "    </tr>\n",
       "    <tr>\n",
       "      <th>2</th>\n",
       "      <td>3</td>\n",
       "      <td>4</td>\n",
       "    </tr>\n",
       "    <tr>\n",
       "      <th>3</th>\n",
       "      <td>4</td>\n",
       "      <td>5</td>\n",
       "    </tr>\n",
       "    <tr>\n",
       "      <th>4</th>\n",
       "      <td>5</td>\n",
       "      <td>5</td>\n",
       "    </tr>\n",
       "  </tbody>\n",
       "</table>\n",
       "</div>"
      ],
      "text/plain": [
       "   Hour  Number of Customers\n",
       "0     1                    5\n",
       "1     2                    4\n",
       "2     3                    4\n",
       "3     4                    5\n",
       "4     5                    5"
      ]
     },
     "execution_count": 21,
     "metadata": {},
     "output_type": "execute_result"
    }
   ],
   "source": [
    "#2\n",
    "\n",
    "# Importing necessary libraries\n",
    "import pandas as pd\n",
    "import numpy as np\n",
    "import matplotlib.pyplot as plt\n",
    "from scipy.stats import poisson\n",
    "\n",
    "# Generating the dataset using Poisson Distribution\n",
    "np.random.seed(42)\n",
    "lambda_value = 5  # Average number of customers arriving per hour\n",
    "hours = list(range(1, 25))\n",
    "data = np.random.poisson(lambda_value, 24)\n",
    "\n",
    "df = pd.DataFrame({'Hour': hours, 'Number of Customers': data})\n",
    "\n",
    "# Display the first few rows of the dataframe\n",
    "df.head()"
   ]
  },
  {
   "cell_type": "markdown",
   "id": "1474c199-e194-4eb5-8db6-9c5ca43560a2",
   "metadata": {},
   "source": [
    "\n",
    "Interpretation: Based on the dataset, provide a brief interpretation of the distribution of customer arrivals per hour.\n",
    "Ans: the distribution is centered around this average rate. Poisson distribution is commonly used to model the number of events occurring in a fixed interval of time or space, given the average rate.\n",
    "Visualization: Plot a histogram to visualize the distribution of customer arrivals in different hours.\n"
   ]
  },
  {
   "cell_type": "code",
   "execution_count": 22,
   "id": "8aa1c1ce-ba66-43f9-b78d-bbd13eab1340",
   "metadata": {},
   "outputs": [
    {
     "data": {
      "image/png": "[encoded data removed]",
      "text/plain": [
       "<Figure size 640x480 with 1 Axes>"
      ]
     },
     "metadata": {},
     "output_type": "display_data"
    }
   ],
   "source": [
    "# Plotting the histogram\n",
    "plt.hist(df['Number of Customers'], bins=10, color='blue', edgecolor='black')\n",
    "plt.xlabel('Number of Customers')\n",
    "plt.ylabel('Frequency')\n",
    "plt.title('Distribution of Customer Arrivals per Hour')\n",
    "plt.show()\n"
   ]
  },
  {
   "cell_type": "markdown",
   "id": "2bb2f5a8-b17a-4418-a850-b5632d34fcff",
   "metadata": {},
   "source": [
    "Poisson Distribution Application:\n",
    "\n",
    "Estimate the average rate (λ) of customer arrivals per hour using the dataset.\n",
    "Calculate the probability that in a given hour, more than 10 customers will arrive using the estimated value of λ."
   ]
  },
  {
   "cell_type": "code",
   "execution_count": 23,
   "id": "4cb4a3f5-f64f-4342-b955-50679a2590d7",
   "metadata": {},
   "outputs": [
    {
     "name": "stdout",
     "output_type": "stream",
     "text": [
      "Estimated average rate of customer arrivals per hour (λ): 4.92\n"
     ]
    }
   ],
   "source": [
    "# Calculate the estimated value of λ\n",
    "estimated_lambda = np.mean(df['Number of Customers'])\n",
    "print(f\"Estimated average rate of customer arrivals per hour (λ): {estimated_lambda:.2f}\")\n"
   ]
  },
  {
   "cell_type": "code",
   "execution_count": 24,
   "id": "fd733671-f2fb-4098-b878-67fab793f1a6",
   "metadata": {},
   "outputs": [
    {
     "name": "stdout",
     "output_type": "stream",
     "text": [
      "Probability of more than 10 customers arriving in a given hour: 0.0122\n"
     ]
    }
   ],
   "source": [
    "# Calculate the probability using the estimated value of λ\n",
    "prob_more_than_10_customers = 1 - poisson.cdf(10, estimated_lambda)\n",
    "print(f\"Probability of more than 10 customers arriving in a given hour: {prob_more_than_10_customers:.4f}\")\n"
   ]
  },
  {
   "cell_type": "code",
   "execution_count": 25,
   "id": "f9acd09c-9c7b-47c7-b75b-844fba5926d6",
   "metadata": {},
   "outputs": [
    {
     "data": {
      "text/html": [
       "<div>\n",
       "<style scoped>\n",
       "    .dataframe tbody tr th:only-of-type {\n",
       "        vertical-align: middle;\n",
       "    }\n",
       "\n",
       "    .dataframe tbody tr th {\n",
       "        vertical-align: top;\n",
       "    }\n",
       "\n",
       "    .dataframe thead th {\n",
       "        text-align: right;\n",
       "    }\n",
       "</style>\n",
       "<table border=\"1\" class=\"dataframe\">\n",
       "  <thead>\n",
       "    <tr style=\"text-align: right;\">\n",
       "      <th></th>\n",
       "      <th>Time Between Requests (minutes)</th>\n",
       "    </tr>\n",
       "  </thead>\n",
       "  <tbody>\n",
       "    <tr>\n",
       "      <th>0</th>\n",
       "      <td>0.234634</td>\n",
       "    </tr>\n",
       "    <tr>\n",
       "      <th>1</th>\n",
       "      <td>1.505061</td>\n",
       "    </tr>\n",
       "    <tr>\n",
       "      <th>2</th>\n",
       "      <td>0.658373</td>\n",
       "    </tr>\n",
       "    <tr>\n",
       "      <th>3</th>\n",
       "      <td>0.456471</td>\n",
       "    </tr>\n",
       "    <tr>\n",
       "      <th>4</th>\n",
       "      <td>0.084812</td>\n",
       "    </tr>\n",
       "  </tbody>\n",
       "</table>\n",
       "</div>"
      ],
      "text/plain": [
       "   Time Between Requests (minutes)\n",
       "0                         0.234634\n",
       "1                         1.505061\n",
       "2                         0.658373\n",
       "3                         0.456471\n",
       "4                         0.084812"
      ]
     },
     "execution_count": 25,
     "metadata": {},
     "output_type": "execute_result"
    }
   ],
   "source": [
    "#3\n",
    "\n",
    "# Importing necessary libraries\n",
    "import pandas as pd\n",
    "import numpy as np\n",
    "import matplotlib.pyplot as plt\n",
    "from scipy.stats import expon\n",
    "\n",
    "# Generating the dataset using Exponential Distribution\n",
    "np.random.seed(42)\n",
    "lambda_value = 2  # Average number of requests per minute\n",
    "data = np.random.exponential(1/lambda_value, 1000)\n",
    "\n",
    "df = pd.DataFrame(data, columns=['Time Between Requests (minutes)'])\n",
    "\n",
    "# Display the first few rows of the dataframe\n",
    "df.head()"
   ]
  },
  {
   "cell_type": "markdown",
   "id": "73338630-a7d6-4676-be90-5d095e76f997",
   "metadata": {},
   "source": [
    "\n",
    "Interpretation: Based on the dataset, provide a brief interpretation of the distribution of time intervals between consecutive server requests.\n",
    "Ans: the distribution of time intervals between consecutive server requests follows an exponential pattern. The Exponential distribution is commonly used to model the time between events in a Poisson process, such as the arrival of requests.\n",
    "\n",
    "Visualization: Plot a histogram to visualize the distribution of time intervals between requests.\n",
    "\n"
   ]
  },
  {
   "cell_type": "code",
   "execution_count": 26,
   "id": "817f6d23-0a15-426a-a773-29d294baeeb8",
   "metadata": {},
   "outputs": [
    {
     "data": {
      "image/png": "[encoded data removed]",
      "text/plain": [
       "<Figure size 640x480 with 1 Axes>"
      ]
     },
     "metadata": {},
     "output_type": "display_data"
    }
   ],
   "source": [
    "# Plotting the histogram\n",
    "plt.hist(df['Time Between Requests (minutes)'], bins=20, color='blue', edgecolor='black')\n",
    "plt.xlabel('Time Between Requests (minutes)')\n",
    "plt.ylabel('Frequency')\n",
    "plt.title('Distribution of Time Intervals between Consecutive Server Requests')\n",
    "plt.show()\n"
   ]
  },
  {
   "cell_type": "markdown",
   "id": "269f5294-d313-439e-bd20-b62672c6f32f",
   "metadata": {},
   "source": [
    "Exponential Distribution Application:\n",
    "\n",
    "Estimate the rate parameter (λ) of the Exponential Distribution using the inverse of the sample mean of the dataset.\n",
    "Calculate the probability that the time between two consecutive requests will exceed 2 minutes using the estimated value of λ.\n",
    "Determine the time by which 90% of the requests would have already arrived post a previous request."
   ]
  },
  {
   "cell_type": "code",
   "execution_count": 27,
   "id": "f1e6211b-1bc6-4c95-b7f4-a0f37411a703",
   "metadata": {},
   "outputs": [
    {
     "name": "stdout",
     "output_type": "stream",
     "text": [
      "Estimated rate parameter (λ) of the Exponential Distribution: 2.0565\n",
      "Probability that the time between two consecutive requests will exceed 2 minutes: 0.0164\n",
      "Time by which 90% of the requests would have already arrived post a previous request: 1.12 minutes\n"
     ]
    }
   ],
   "source": [
    "# Calculate the estimated value of λ using the inverse of the sample mean\n",
    "estimated_lambda = 1 / np.mean(df['Time Between Requests (minutes)'])\n",
    "print(f\"Estimated rate parameter (λ) of the Exponential Distribution: {estimated_lambda:.4f}\")\n",
    "\n",
    "# Calculate the probability using the estimated value of λ\n",
    "prob_exceed_2_minutes = 1 - expon.cdf(2, scale=1/estimated_lambda)\n",
    "print(f\"Probability that the time between two consecutive requests will exceed 2 minutes: {prob_exceed_2_minutes:.4f}\")\n",
    "\n",
    "# Determine the time using the quantile function (inverse of the cumulative distribution function)\n",
    "time_for_90_percent = expon.ppf(0.9, scale=1/estimated_lambda)\n",
    "print(f\"Time by which 90% of the requests would have already arrived post a previous request: {time_for_90_percent:.2f} minutes\")\n"
   ]
  },
  {
   "cell_type": "code",
   "execution_count": null,
   "id": "5300b988-bce7-4f62-890a-2e6e484b46a8",
   "metadata": {},
   "outputs": [],
   "source": []
  },
  {
   "cell_type": "code",
   "execution_count": null,
   "id": "bc98b9ab-249b-4687-9fa4-082823f9331a",
   "metadata": {},
   "outputs": [],
   "source": []
  }
 ],
 "metadata": {
  "kernelspec": {
   "display_name": "Python 3 (ipykernel)",
   "language": "python",
   "name": "python3"
  },
  "language_info": {
   "codemirror_mode": {
    "name": "ipython",
    "version": 3
   },
   "file_extension": ".py",
   "mimetype": "text/x-python",
   "name": "python",
   "nbconvert_exporter": "python",
   "pygments_lexer": "ipython3",
   "version": "3.12.0"
  }
 },
 "nbformat": 4,
 "nbformat_minor": 5
}
